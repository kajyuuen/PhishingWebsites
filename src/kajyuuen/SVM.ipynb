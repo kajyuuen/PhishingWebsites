{
 "cells": [
  {
   "cell_type": "code",
   "execution_count": 1,
   "metadata": {
    "collapsed": true
   },
   "outputs": [],
   "source": [
    "# notebook上で可視化した図を表示するためのコマンド\n",
    "%matplotlib inline\n",
    "\n",
    "# ライブラリをimport\n",
    "import numpy as np\n",
    "import pandas as pd\n",
    "import matplotlib.pyplot as plt\n",
    "import seaborn as sns\n",
    "import sklearn"
   ]
  },
  {
   "cell_type": "code",
   "execution_count": 2,
   "metadata": {},
   "outputs": [],
   "source": [
    "#header = [ 'V{}'.format(i)  for  i  in  range(1,30)] + [\"Answer\"] \n",
    "df = pd.read_csv(\"../TrainingDataset.csv\", header = None)"
   ]
  },
  {
   "cell_type": "code",
   "execution_count": 3,
   "metadata": {},
   "outputs": [
    {
     "ename": "SyntaxError",
     "evalue": "invalid character in identifier (<ipython-input-3-ed73126b4ab2>, line 1)",
     "output_type": "error",
     "traceback": [
      "\u001b[0;36m  File \u001b[0;32m\"<ipython-input-3-ed73126b4ab2>\"\u001b[0;36m, line \u001b[0;32m1\u001b[0m\n\u001b[0;31m    df.columns　= [\"having_IP_Address\", \"URL_Length\", ]\u001b[0m\n\u001b[0m              ^\u001b[0m\n\u001b[0;31mSyntaxError\u001b[0m\u001b[0;31m:\u001b[0m invalid character in identifier\n"
     ]
    }
   ],
   "source": [
    "df.columns　= [\"having_IP_Address\", \"URL_Length\", ]"
   ]
  },
  {
   "cell_type": "code",
   "execution_count": null,
   "metadata": {},
   "outputs": [],
   "source": [
    "str = \"\"\"\n",
    "@attribute having_IP_Address  { -1,1 }\n",
    "@attribute URL_Length   { 1,0,-1 }\n",
    "@attribute Shortining_Service { 1,-1 }\n",
    "@attribute having_At_Symbol   { 1,-1 }\n",
    "@attribute double_slash_redirecting { -1,1 }\n",
    "@attribute Prefix_Suffix  { -1,1 }\n",
    "@attribute having_Sub_Domain  { -1,0,1 }\n",
    "@attribute SSLfinal_State  { -1,1,0 }\n",
    "@attribute Domain_registeration_length { -1,1 }\n",
    "@attribute Favicon { 1,-1 }\n",
    "@attribute port { 1,-1 }\n",
    "@attribute HTTPS_token { -1,1 }\n",
    "@attribute Request_URL  { 1,-1 }\n",
    "@attribute URL_of_Anchor { -1,0,1 }\n",
    "@attribute Links_in_tags { 1,-1,0 }\n",
    "@attribute SFH  { -1,1,0 }\n",
    "@attribute Submitting_to_email { -1,1 }\n",
    "@attribute Abnormal_URL { -1,1 }\n",
    "@attribute Redirect  { 0,1 }\n",
    "@attribute on_mouseover  { 1,-1 }\n",
    "@attribute RightClick  { 1,-1 }\n",
    "@attribute popUpWidnow  { 1,-1 }\n",
    "@attribute Iframe { 1,-1 }\n",
    "@attribute age_of_domain  { -1,1 }\n",
    "@attribute DNSRecord   { -1,1 }\n",
    "@attribute web_traffic  { -1,0,1 }\n",
    "@attribute Page_Rank { -1,1 }\n",
    "@attribute Google_Index { 1,-1 }\n",
    "@attribute Links_pointing_to_page { 1,0,-1 }\n",
    "@attribute Statistical_report { -1,1 }\n",
    "@attribute Result  { -1,1 }\n",
    "\"\"\"\n",
    "\n",
    "mk_str=\"\"\n",
    "\n",
    "for line in str.split(\"\\n\"):\n",
    "    if len(line.split(\" \")) > 1:\n",
    "        mk_str += \"\\\"{}\\\",\".format(line.split(\" \")[1])\n",
    "\n",
    "print(mk_str)"
   ]
  },
  {
   "cell_type": "code",
   "execution_count": 76,
   "metadata": {},
   "outputs": [],
   "source": [
    "\n",
    "\n",
    "df.columns = [\"having_IP_Address\",\"URL_Length\",\"Shortining_Service\",\"having_At_Symbol\",\"double_slash_redirecting\",\"Prefix_Suffix\",\"having_Sub_Domain\",\"SSLfinal_State\",\"Domain_registeration_length\",\"Favicon\",\"port\",\"HTTPS_token\",\"Request_URL\",\"URL_of_Anchor\",\"Links_in_tags\",\"SFH\",\"Submitting_to_email\",\"Abnormal_URL\",\"Redirect\",\"on_mouseover\",\"RightClick\",\"popUpWidnow\",\"Iframe\",\"age_of_domain\",\"DNSRecord\",\"web_traffic\",\"Page_Rank\",\"Google_Index\",\"Links_pointing_to_page\",\"Statistical_report\",\"Result\"]\n",
    "\n"
   ]
  },
  {
   "cell_type": "code",
   "execution_count": 6,
   "metadata": {},
   "outputs": [],
   "source": [
    "df.to_csv(\"df.csv\")"
   ]
  },
  {
   "cell_type": "code",
   "execution_count": 83,
   "metadata": {},
   "outputs": [
    {
     "data": {
      "text/plain": [
       "count    6157.000000\n",
       "mean       -0.593958\n",
       "std         0.799295\n",
       "min        -1.000000\n",
       "25%        -1.000000\n",
       "50%        -1.000000\n",
       "75%        -1.000000\n",
       "max         1.000000\n",
       "Name: URL_Length, dtype: float64"
      ]
     },
     "execution_count": 83,
     "metadata": {},
     "output_type": "execute_result"
    }
   ],
   "source": [
    "df[df[\"Result\"] == 1][\"URL_Length\"].describe()"
   ]
  },
  {
   "cell_type": "code",
   "execution_count": 84,
   "metadata": {},
   "outputs": [
    {
     "data": {
      "text/plain": [
       "count    4898.000000\n",
       "mean       -0.682523\n",
       "std         0.719251\n",
       "min        -1.000000\n",
       "25%        -1.000000\n",
       "50%        -1.000000\n",
       "75%        -1.000000\n",
       "max         1.000000\n",
       "Name: URL_Length, dtype: float64"
      ]
     },
     "execution_count": 84,
     "metadata": {},
     "output_type": "execute_result"
    }
   ],
   "source": [
    "df[df[\"Result\"] == -1][\"URL_Length\"].describe()"
   ]
  },
  {
   "cell_type": "code",
   "execution_count": 73,
   "metadata": {},
   "outputs": [
    {
     "data": {
      "text/html": [
       "<div>\n",
       "<style>\n",
       "    .dataframe thead tr:only-child th {\n",
       "        text-align: right;\n",
       "    }\n",
       "\n",
       "    .dataframe thead th {\n",
       "        text-align: left;\n",
       "    }\n",
       "\n",
       "    .dataframe tbody tr th {\n",
       "        vertical-align: top;\n",
       "    }\n",
       "</style>\n",
       "<table border=\"1\" class=\"dataframe\">\n",
       "  <thead>\n",
       "    <tr style=\"text-align: right;\">\n",
       "      <th></th>\n",
       "      <th>port</th>\n",
       "      <th>Result</th>\n",
       "    </tr>\n",
       "  </thead>\n",
       "  <tbody>\n",
       "    <tr>\n",
       "      <th>0</th>\n",
       "      <td>1</td>\n",
       "      <td>1</td>\n",
       "    </tr>\n",
       "    <tr>\n",
       "      <th>1</th>\n",
       "      <td>1</td>\n",
       "      <td>1</td>\n",
       "    </tr>\n",
       "    <tr>\n",
       "      <th>2</th>\n",
       "      <td>-1</td>\n",
       "      <td>-1</td>\n",
       "    </tr>\n",
       "    <tr>\n",
       "      <th>3</th>\n",
       "      <td>1</td>\n",
       "      <td>-1</td>\n",
       "    </tr>\n",
       "    <tr>\n",
       "      <th>4</th>\n",
       "      <td>1</td>\n",
       "      <td>-1</td>\n",
       "    </tr>\n",
       "  </tbody>\n",
       "</table>\n",
       "</div>"
      ],
      "text/plain": [
       "   port  Result\n",
       "0     1       1\n",
       "1     1       1\n",
       "2    -1      -1\n",
       "3     1      -1\n",
       "4     1      -1"
      ]
     },
     "execution_count": 73,
     "metadata": {},
     "output_type": "execute_result"
    }
   ],
   "source": [
    "from sklearn.model_selection import train_test_split\n",
    "\n",
    "train_df, test_df = train_test_split(df[[\"port\", \"Result\"]], test_size = 0.2)\n",
    "\n",
    "train_df = train_df.reset_index(drop=True)\n",
    "test_df = test_df.reset_index(drop=True)\n",
    "train_df.head()"
   ]
  },
  {
   "cell_type": "code",
   "execution_count": 64,
   "metadata": {},
   "outputs": [
    {
     "name": "stdout",
     "output_type": "stream",
     "text": [
      "0.55405\n"
     ]
    }
   ],
   "source": [
    "from sklearn import svm\n",
    "from sklearn.metrics import accuracy_score\n",
    "\n",
    "clf = svm.SVC()\n",
    "clf.fit(train_df.drop('Result', axis=1), train_df['Result'])\n",
    "\n",
    "pred = clf.predict(test_df.drop('Result', axis=1))\n",
    "\n",
    "print('{:.5f}'.format(accuracy_score(test_df['Result'], pred)))"
   ]
  },
  {
   "cell_type": "code",
   "execution_count": 78,
   "metadata": {},
   "outputs": [
    {
     "data": {
      "text/plain": [
       "['clf.pkl']"
      ]
     },
     "execution_count": 78,
     "metadata": {},
     "output_type": "execute_result"
    }
   ],
   "source": [
    "from sklearn.linear_model import LogisticRegression\n",
    "from sklearn.externals import joblib\n",
    "\n",
    "clf = LogisticRegression(C=0.9, penalty='l1')\n",
    "clf.fit(train_df.drop('Result', axis=1), train_df['Result'])\n",
    "\n",
    "joblib.dump(clf, 'clf.pkl') \n",
    "\n",
    "#pred = clf.predict(test_df.drop('Result', axis=1))\n",
    "# pred = clf.predict_proba(test_df.drop('Result', axis=1)) "
   ]
  },
  {
   "cell_type": "code",
   "execution_count": 75,
   "metadata": {},
   "outputs": [
    {
     "name": "stdout",
     "output_type": "stream",
     "text": [
      "0.56490\n"
     ]
    }
   ],
   "source": [
    "print('{:.5f}'.format(accuracy_score(test_df['Result'], pred)))"
   ]
  }
 ],
 "metadata": {
  "kernelspec": {
   "display_name": "Python 3",
   "language": "python",
   "name": "python3"
  },
  "language_info": {
   "codemirror_mode": {
    "name": "ipython",
    "version": 3
   },
   "file_extension": ".py",
   "mimetype": "text/x-python",
   "name": "python",
   "nbconvert_exporter": "python",
   "pygments_lexer": "ipython3",
   "version": "3.6.1"
  }
 },
 "nbformat": 4,
 "nbformat_minor": 2
}
