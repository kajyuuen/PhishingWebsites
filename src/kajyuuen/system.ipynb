{
 "cells": [
  {
   "cell_type": "code",
   "execution_count": 85,
   "metadata": {
    "collapsed": true
   },
   "outputs": [],
   "source": [
    "url = 'https://github.com'"
   ]
  },
  {
   "cell_type": "markdown",
   "metadata": {},
   "source": [
    "## @マークが入っているか"
   ]
  },
  {
   "cell_type": "code",
   "execution_count": 86,
   "metadata": {
    "collapsed": true
   },
   "outputs": [],
   "source": [
    "def at_sign_symdol(url_data):\n",
    "    for character in url_data:\n",
    "        if(character == \"@\"):\n",
    "            ans = -1\n",
    "            break\n",
    "        else:\n",
    "            ans = 0\n",
    "    return ans"
   ]
  },
  {
   "cell_type": "markdown",
   "metadata": {},
   "source": [
    "## どこにも行かないlinkがあるか"
   ]
  },
  {
   "cell_type": "code",
   "execution_count": 168,
   "metadata": {
    "collapsed": true
   },
   "outputs": [],
   "source": [
    "import requests\n",
    "from bs4 import BeautifulSoup\n",
    "from urllib.parse import urlparse\n",
    "\n",
    "def url_of_anchor(url_data):\n",
    "    url = url_data\n",
    "    parsed_url = urlparse(url)\n",
    "    headers = {'User-Agent': 'Mozilla/5.0'}\n",
    "\n",
    "    response = requests.get(url, headers=headers) # <Response [200]>\n",
    "\n",
    "    soup = BeautifulSoup(response.text, 'html.parser')\n",
    "    \n",
    "    cnt = 0.01\n",
    "    anc_cnt = 0.0\n",
    "    for link in soup.findAll('a', href=True):\n",
    "        cnt += 1.0\n",
    "        if \"#\" == link['href']:\n",
    "            anc_cnt += 1.0\n",
    "        elif \"#content\" == link['href']:\n",
    "            anc_cnt += 1.0\n",
    "        elif \"#skip\" == link['href']:\n",
    "            anc_cnt += 1.0\n",
    "        elif \"JavaScript::void(0)\" in link['href']:\n",
    "            anc_cnt += 1.0\n",
    "\n",
    "    per = anc_cnt / cnt*100\n",
    "    if per < 31:\n",
    "        return 1\n",
    "    elif 31 <= per and per >= 67:\n",
    "        return 0\n",
    "    else:\n",
    "        return -1"
   ]
  },
  {
   "cell_type": "markdown",
   "metadata": {},
   "source": [
    "## URLの長さ"
   ]
  },
  {
   "cell_type": "code",
   "execution_count": 141,
   "metadata": {
    "collapsed": true
   },
   "outputs": [],
   "source": [
    "def long_url(url_data):\n",
    "    url_len = len(url_data)\n",
    "    if 75 >= url_len >= 54:\n",
    "        ans = 0\n",
    "    elif url_len >= 54:\n",
    "        ans = -1\n",
    "    elif url_len < 54:\n",
    "        ans = 1\n",
    "    return ans"
   ]
  },
  {
   "cell_type": "markdown",
   "metadata": {},
   "source": [
    "## Emailを送信させる機能"
   ]
  },
  {
   "cell_type": "code",
   "execution_count": 154,
   "metadata": {
    "collapsed": true
   },
   "outputs": [],
   "source": [
    "def is_send_email(url):\n",
    "    headers = {'User-Agent': 'Mozilla/5.0'}\n",
    "    response = requests.get(url, headers=headers) # <Response [200]>\n",
    "    soup = BeautifulSoup(response.text, 'html.parser')\n",
    "\n",
    "    \n",
    "    cnt = 0.0\n",
    "    anc_cnt = 0.0\n",
    "    for link in soup.findAll('a', href=True):\n",
    "        cnt += 1.0\n",
    "        if \"mailto\" in link['href']:\n",
    "            return -1\n",
    "        elif \"mail()\" in link['href']:\n",
    "            return -1\n",
    "    return 1\n"
   ]
  },
  {
   "cell_type": "markdown",
   "metadata": {},
   "source": [
    "# システム"
   ]
  },
  {
   "cell_type": "markdown",
   "metadata": {},
   "source": [
    "## 実装部分"
   ]
  },
  {
   "cell_type": "code",
   "execution_count": 169,
   "metadata": {},
   "outputs": [
    {
     "name": "stdout",
     "output_type": "stream",
     "text": [
      "フィッシングサイトの確率は20.2%\n"
     ]
    },
    {
     "name": "stderr",
     "output_type": "stream",
     "text": [
      "/Users/kajyuuen/.anyenv/envs/pyenv/versions/anaconda3-4.4.0/lib/python3.6/site-packages/sklearn/utils/validation.py:395: DeprecationWarning: Passing 1d arrays as data is deprecated in 0.17 and will raise ValueError in 0.19. Reshape your data either using X.reshape(-1, 1) if your data has a single feature or X.reshape(1, -1) if it contains a single sample.\n",
      "  DeprecationWarning)\n"
     ]
    }
   ],
   "source": [
    "url = 'https://support.apple.com-a2fszw0gymfuz3nhdcbldxl5.store/'\n",
    "\n",
    "url_date = []\n",
    "\n",
    "url_date.append(at_sign_symdol(url))\n",
    "url_date.append(url_of_anchor(url))\n",
    "url_date.append(long_url(url))\n",
    "url_date.append(is_send_email(url))\n",
    "\n",
    "pred = clf.predict_proba(url_date) \n",
    "\n",
    "fishing = pred.tolist()\n",
    "print(\"フィッシングサイトの確率は{0:.1f}%\".format(fishing[0][0]*100))"
   ]
  },
  {
   "cell_type": "markdown",
   "metadata": {},
   "source": [
    "## モデル構築部分"
   ]
  },
  {
   "cell_type": "code",
   "execution_count": 1,
   "metadata": {
    "collapsed": true
   },
   "outputs": [],
   "source": [
    "import numpy as np\n",
    "import pandas as pd\n",
    "import matplotlib.pyplot as plt\n",
    "import seaborn as sns\n",
    "import sklearn"
   ]
  },
  {
   "cell_type": "code",
   "execution_count": 2,
   "metadata": {
    "collapsed": true
   },
   "outputs": [],
   "source": [
    "from sklearn.model_selection import train_test_split\n",
    "\n",
    "df = pd.read_csv(\"df.csv\")\n",
    "train_df, test_df = train_test_split(df[[\"having_At_Symbol\",\"URL_Length\",\"URL_of_Anchor\",\"Submitting_to_email\", \"Result\"]], test_size = 0.2)\n",
    "\n",
    "train_df = train_df.reset_index(drop=True)\n",
    "test_df = test_df.reset_index(drop=True)"
   ]
  },
  {
   "cell_type": "code",
   "execution_count": 4,
   "metadata": {},
   "outputs": [
    {
     "name": "stdout",
     "output_type": "stream",
     "text": [
      "0.84441\n"
     ]
    },
    {
     "data": {
      "text/plain": [
       "['clf.pkl']"
      ]
     },
     "execution_count": 4,
     "metadata": {},
     "output_type": "execute_result"
    }
   ],
   "source": [
    "from sklearn.linear_model import LogisticRegression\n",
    "from sklearn.externals import joblib\n",
    "from sklearn.metrics import accuracy_score\n",
    "from sklearn.externals import joblib\n",
    "\n",
    "clf = LogisticRegression(C=1, penalty='l2')\n",
    "clf.fit(train_df.drop('Result', axis=1), train_df['Result'])\n",
    "pred = clf.predict(test_df.drop('Result', axis=1))\n",
    "# pred = clf.predict_proba(test_df.drop('Result', axis=1)) \n",
    "print('{:.5f}'.format(accuracy_score(test_df['Result'], pred)))\n",
    "joblib.dump(clf, 'clf.pkl') "
   ]
  }
 ],
 "metadata": {
  "kernelspec": {
   "display_name": "Python 3",
   "language": "python",
   "name": "python3"
  },
  "language_info": {
   "codemirror_mode": {
    "name": "ipython",
    "version": 3
   },
   "file_extension": ".py",
   "mimetype": "text/x-python",
   "name": "python",
   "nbconvert_exporter": "python",
   "pygments_lexer": "ipython3",
   "version": "3.6.1"
  }
 },
 "nbformat": 4,
 "nbformat_minor": 2
}
